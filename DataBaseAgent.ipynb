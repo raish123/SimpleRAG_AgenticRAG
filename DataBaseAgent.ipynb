{
 "cells": [
  {
   "cell_type": "code",
   "execution_count": 1,
   "id": "c76a59a2",
   "metadata": {},
   "outputs": [
    {
     "data": {
      "text/plain": [
       "True"
      ]
     },
     "execution_count": 1,
     "metadata": {},
     "output_type": "execute_result"
    }
   ],
   "source": [
    "#what is SQL Agent?\n",
    "#sql agent is the system that takes Natural Language as Input looks into DB Schema \n",
    "#and convert into Natural Language into appropriate SQL statement based on the result the agent\n",
    "#generate Natural Language Response.\n",
    "\n",
    "#importing modules which is used in simple RAG Project.\n",
    "#below classes we used so user can interact with LLM Models.\n",
    "from langchain_groq import ChatGroq\n",
    "from langchain_openai import ChatOpenAI\n",
    "from langchain_huggingface import ChatHuggingFace,HuggingFaceEndpoint #HFE class we used to hit user query and take response from it.\n",
    "\n",
    "#below classes we used for embedding Models\n",
    "from langchain_openai import OpenAIEmbeddings  #close source model\n",
    "from langchain_huggingface import HuggingFaceEmbeddings #open source model\n",
    "\n",
    "\n",
    "from pathlib import Path\n",
    "from typing import Annotated,Optional,List,Literal,TypedDict\n",
    "from dataclasses import dataclass\n",
    "from loggers import logger\n",
    "from Exception import CustomException\n",
    "import os,sys\n",
    "\n",
    "from langgraph.graph import StateGraph,START,END #using this class we can create Graph start or end of workflow\n",
    "\n",
    "#if i want to add tool support to my workflow.\n",
    "from langchain.tools import tool,Tool,StructuredTool\n",
    "\n",
    "#if i want to add toolnode in my workflow \n",
    "#(toolnode means that node have list of tool here they will decide based on user query which tool need to execute)\n",
    "from langgraph.prebuilt import ToolNode,tools_condition\n",
    "\n",
    "#if i need to add memory or persistence to my workflow so that it can save the state value at every checkpoint\n",
    "from langgraph.checkpoint.memory import InMemorySaver #it will save in state value to Ram memory.\n",
    "from langgraph.checkpoint.sqlite import SqliteSaver\n",
    "\n",
    "#tools_condition will  decide if tool message is present on AI response then they redirect to toolnode or end it workflow\n",
    "from pydantic import BaseModel,Field,computed_field\n",
    "\n",
    "#this class we used to change retriever object to become tool\n",
    "from langchain_core.tools.retriever import create_retriever_tool\n",
    "\n",
    "#fetching the RAG prompt from Hub.\n",
    "from langchain import hub\n",
    "\n",
    "from langchain_core.prompts import ChatPromptTemplate\n",
    "from langchain_core.output_parsers import StrOutputParser\n",
    "\n",
    "import warnings as w\n",
    "w.filterwarnings('ignore')\n",
    "\n",
    "from langchain_core.messages import AIMessage,HumanMessage,AnyMessage,ToolMessage\n",
    "from dotenv import load_dotenv\n",
    "load_dotenv()"
   ]
  },
  {
   "cell_type": "code",
   "execution_count": 2,
   "id": "fd66deed",
   "metadata": {},
   "outputs": [
    {
     "data": {
      "text/plain": [
       "'\\nFlow of SQL Agent\\nUser Question \\n   ⬇\\nFetch Schema from DB \\n   ⬇\\nInject Schema into LLM Prompt \\n   ⬇\\nLLM Generates SQL \\n   ⬇\\nExecute SQL on Database \\n   ⬇\\nFetch Result Rows \\n   ⬇\\nLLM Converts Result → Human Answer \\n   ⬇\\nFinal Output to User\\n\\n'"
      ]
     },
     "execution_count": 2,
     "metadata": {},
     "output_type": "execute_result"
    }
   ],
   "source": [
    "'''\n",
    "Flow of SQL Agent\n",
    "User Question \n",
    "   ⬇\n",
    "Fetch Schema from DB \n",
    "   ⬇\n",
    "Inject Schema into LLM Prompt \n",
    "   ⬇\n",
    "LLM Generates SQL \n",
    "   ⬇\n",
    "Execute SQL on Database \n",
    "   ⬇\n",
    "Fetch Result Rows \n",
    "   ⬇\n",
    "LLM Converts Result → Human Answer \n",
    "   ⬇\n",
    "Final Output to User\n",
    "\n",
    "'''"
   ]
  },
  {
   "cell_type": "code",
   "execution_count": 13,
   "id": "1433bdf2",
   "metadata": {},
   "outputs": [],
   "source": [
    "#groq model\n",
    "model1 = ChatGroq(\n",
    "    model=\"groq/compound-mini\",\n",
    "    temperature=0\n",
    ")\n",
    "\n",
    "#openai model\n",
    "model2 = ChatOpenAI(\n",
    "    model=\"gpt-3.5-turbo\",temperature=0\n",
    ")\n",
    "\n",
    "#hugging face model.\n",
    "llm = HuggingFaceEndpoint(\n",
    "    repo_id=\"meta-llama/Llama-3.1-8B-Instruct\",  \n",
    "    task=\"text-generation\",  \n",
    "    \n",
    ")\n",
    "model3 = ChatHuggingFace(llm=llm)\n",
    "\n",
    "\n",
    "emb_model = OpenAIEmbeddings(model=\"text-embedding-3-small\")"
   ]
  },
  {
   "cell_type": "markdown",
   "id": "7a178320",
   "metadata": {},
   "source": [
    "#### How SQLAgent work ?"
   ]
  },
  {
   "cell_type": "code",
   "execution_count": 3,
   "id": "ca57650b",
   "metadata": {},
   "outputs": [],
   "source": [
    "# Database Connector → SQLAlchemy, BigQuery client, etc.\n",
    "# LLM Model → GPT, Claude, Gemini, etc.\n",
    "# Toolkit/Wrapper → LangChain SQLDatabaseChain or LangGraph.\n",
    "# Agent → Maintains context and decides whether to call DB or just answer directly."
   ]
  },
  {
   "cell_type": "code",
   "execution_count": 4,
   "id": "87a837a2",
   "metadata": {},
   "outputs": [],
   "source": [
    "from sqlalchemy import create_engine, Column, Integer, String, ForeignKey, Float\n",
    "from sqlalchemy.ext.declarative import declarative_base\n",
    "from langchain_core.runnables import RunnableConfig \n",
    "from sqlalchemy.orm import sessionmaker, relationship"
   ]
  },
  {
   "cell_type": "markdown",
   "id": "b952b190",
   "metadata": {},
   "source": [
    "### Sample Table Creating in sqlite Database using sqlalchemy ORM"
   ]
  },
  {
   "cell_type": "code",
   "execution_count": 5,
   "id": "b2b87901",
   "metadata": {},
   "outputs": [
    {
     "data": {
      "text/plain": [
       "sessionmaker(class_='Session', autocommit=False, bind=Engine(sqlite:///example.db), autoflush=False, expire_on_commit=True)"
      ]
     },
     "execution_count": 5,
     "metadata": {},
     "output_type": "execute_result"
    }
   ],
   "source": [
    "DATABASE_URL = \"sqlite:///example.db\"\n",
    "\n",
    "#creating Database Connection.\n",
    "engine = create_engine(DATABASE_URL)\n",
    "\n",
    "#Creates sessions to talk to DB\n",
    "SessionLocal = sessionmaker(autocommit=False, autoflush=False, bind=engine)\n",
    "SessionLocal"
   ]
  },
  {
   "cell_type": "code",
   "execution_count": 6,
   "id": "43fd5f9b",
   "metadata": {},
   "outputs": [],
   "source": [
    "#creating an object of Base class of sqlalchemy.\n",
    "Base = declarative_base()\n",
    "\n",
    "class User(Base):\n",
    "    __tablename__ = \"users\"\n",
    "    \n",
    "\n",
    "    id = Column(Integer, primary_key=True, index=True)\n",
    "    name = Column(String, index=True)\n",
    "    age = Column(Integer)\n",
    "    email = Column(String, unique=True, index=True)\n",
    "\n",
    "    orders = relationship(\"Order\", back_populates=\"user\",)\n",
    "\n",
    "\n",
    "class Food(Base):\n",
    "    __tablename__ = \"food\"\n",
    "\n",
    "    id = Column(Integer, primary_key=True, index=True)\n",
    "    name = Column(String, unique=True, index=True)\n",
    "    price = Column(Float)\n",
    "\n",
    "    orders = relationship(\"Order\", back_populates=\"food\")\n",
    "\n",
    "\n",
    "class Order(Base):\n",
    "    __tablename__ = \"orders\"\n",
    "\n",
    "    id = Column(Integer, primary_key=True, index=True)\n",
    "    food_id = Column(Integer, ForeignKey(\"food.id\"))\n",
    "    user_id = Column(Integer, ForeignKey(\"users.id\"))\n",
    "\n",
    "    user = relationship(\"User\", back_populates=\"orders\")\n",
    "    food = relationship(\"Food\", back_populates=\"orders\")"
   ]
  },
  {
   "cell_type": "markdown",
   "id": "b08db2e6",
   "metadata": {},
   "source": [
    "## defining the SQL Agent"
   ]
  },
  {
   "cell_type": "code",
   "execution_count": 7,
   "id": "1bbdc3bf",
   "metadata": {},
   "outputs": [],
   "source": [
    "class AgentState(TypedDict):\n",
    "    # The original question asked by the user\n",
    "    question: str  \n",
    "\n",
    "    # The SQL query generated by the agent from the question\n",
    "    sql_query: str  \n",
    "\n",
    "    # The raw result returned from executing the SQL query (as string/summary)\n",
    "    query_result: str  \n",
    "\n",
    "    # The actual rows/records fetched from the database (list of dicts/tuples)\n",
    "    query_rows: list  \n",
    "\n",
    "    # The username or identifier of the current user interacting with the agent\n",
    "    current_user: str  \n",
    "\n",
    "    # Number of attempts made to answer the question (useful for retries/debug)\n",
    "    attempts: int  \n",
    "\n",
    "    # Indicates how relevant the SQL query/result is to the original question\n",
    "    relevance: str  \n",
    "\n",
    "    # Flag showing if an error occurred while running the SQL query\n",
    "    sql_error: bool  \n"
   ]
  },
  {
   "cell_type": "markdown",
   "id": "616fc7c3",
   "metadata": {},
   "source": [
    "### step:1) to get the schema of all tables exists in database"
   ]
  },
  {
   "cell_type": "code",
   "execution_count": 8,
   "id": "ff49475c",
   "metadata": {},
   "outputs": [],
   "source": [
    "from sqlalchemy import text, inspect\n",
    "def get_database_schema(engine):\n",
    "    inspector = inspect(engine)\n",
    "    schema = \"\"\n",
    "    for table_name in inspector.get_table_names():\n",
    "        schema += f\"Table: {table_name}\\n\"\n",
    "        for column in inspector.get_columns(table_name):\n",
    "            col_name = column[\"name\"]\n",
    "            col_type = str(column[\"type\"])\n",
    "            if column.get(\"primary_key\"):\n",
    "                col_type += \", Primary Key\"\n",
    "            if column.get(\"foreign_keys\"):\n",
    "                fk = list(column[\"foreign_keys\"])[0]\n",
    "                col_type += f\", Foreign Key to {fk.column.table.name}.{fk.column.name}\"\n",
    "            schema += f\"- {col_name}: {col_type}\\n\"\n",
    "        schema += \"\\n\"\n",
    "    print(\"Retrieved database schema.\")\n",
    "    return schema"
   ]
  },
  {
   "cell_type": "markdown",
   "id": "552d8e2e",
   "metadata": {},
   "source": [
    "### testing to see the schema of database"
   ]
  },
  {
   "cell_type": "code",
   "execution_count": 9,
   "id": "ba657af5",
   "metadata": {},
   "outputs": [
    {
     "name": "stdout",
     "output_type": "stream",
     "text": [
      "Retrieved database schema.\n",
      "Table: food\n",
      "- id: INTEGER, Primary Key\n",
      "- name: VARCHAR\n",
      "- price: FLOAT\n",
      "\n",
      "Table: orders\n",
      "- id: INTEGER, Primary Key\n",
      "- food_id: INTEGER\n",
      "- user_id: INTEGER\n",
      "\n",
      "Table: users\n",
      "- id: INTEGER, Primary Key\n",
      "- name: VARCHAR\n",
      "- age: INTEGER\n",
      "- email: VARCHAR\n",
      "\n",
      "\n"
     ]
    }
   ],
   "source": [
    "print(get_database_schema(engine=engine))"
   ]
  },
  {
   "cell_type": "markdown",
   "id": "71494f84",
   "metadata": {},
   "source": [
    "### stpe:2) to get current user ids"
   ]
  },
  {
   "cell_type": "code",
   "execution_count": 10,
   "id": "258cf122",
   "metadata": {},
   "outputs": [],
   "source": [
    "#config allow usto pass the information during runtime(dont know the user_id initially so we pass dynamically)\n",
    "def get_current_user(state: AgentState, config: RunnableConfig):\n",
    "    print(\"Retrieving the current user based on user ID.\")\n",
    "    user_id = config[\"configurable\"].get(\"current_user_id\", None)\n",
    "    if not user_id:\n",
    "        state[\"current_user\"] = \"User not found\"\n",
    "        print(\"No user ID provided in the configuration.\")\n",
    "        return state\n",
    "\n",
    "    session = SessionLocal()\n",
    "    try:\n",
    "        user = session.query(User).filter(User.id == int(user_id)).first()\n",
    "        if user:\n",
    "            state[\"current_user\"] = user.name\n",
    "            print(f\"Current user set to: {state['current_user']}\")\n",
    "        else:\n",
    "            state[\"current_user\"] = \"User not found\"\n",
    "            print(\"User not found in the database.\")\n",
    "    except Exception as e:\n",
    "        state[\"current_user\"] = \"Error retrieving user\"\n",
    "        print(f\"Error retrieving user: {str(e)}\")\n",
    "    finally:\n",
    "        session.close()\n",
    "    return state"
   ]
  },
  {
   "cell_type": "markdown",
   "id": "9721a9d5",
   "metadata": {},
   "source": [
    "### Testing function"
   ]
  },
  {
   "cell_type": "code",
   "execution_count": 12,
   "id": "94d501c9",
   "metadata": {},
   "outputs": [
    {
     "name": "stdout",
     "output_type": "stream",
     "text": [
      "Retrieving the current user based on user ID.\n",
      "Current user set to: Alice\n"
     ]
    },
    {
     "data": {
      "text/plain": [
       "{'current_user': 'Alice'}"
      ]
     },
     "execution_count": 12,
     "metadata": {},
     "output_type": "execute_result"
    }
   ],
   "source": [
    "config = {\n",
    "    \"configurable\": {\n",
    "        \"current_user_id\": 1   # dynamically passed at runtime\n",
    "    }\n",
    "}\n",
    "\n",
    "state = AgentState()\n",
    "get_current_user(state, config)"
   ]
  },
  {
   "cell_type": "markdown",
   "id": "bcf283c1",
   "metadata": {},
   "source": [
    "### step:3) checking the user query is relevant to database schema or not"
   ]
  },
  {
   "cell_type": "code",
   "execution_count": null,
   "id": "24f58a6e",
   "metadata": {},
   "outputs": [],
   "source": [
    "class CheckRelevance(BaseModel):\n",
    "    relevance: str = Field(\n",
    "        description=\"Indicates whether the question is related to the database schema. 'relevant' or 'not_relevant'.\"\n",
    "    )\n",
    "\n",
    "def check_relevance(state: AgentState, config: RunnableConfig):\n",
    "    question = state[\"question\"]\n",
    "    schema = get_database_schema(engine) #fetching the schema from DB.\n",
    "    print(f\"Checking relevance of the question: {question}\")\n",
    "    \n",
    "    system = \"\"\"You are an assistant that determines whether a given question is related to the following database schema.\n",
    "    \n",
    "    Schema:\n",
    "    {schema}\n",
    "\n",
    "    Respond with only \"relevant\" or \"not_relevant\".\n",
    "    \"\"\"\n",
    "\n",
    "    human = f\"Question: {question}\"\n",
    "    \n",
    "    check_prompt = ChatPromptTemplate.from_messages(\n",
    "        [\n",
    "            (\"system\", system),\n",
    "            (\"human\", human),\n",
    "        ]\n",
    "    )\n",
    "    #warapping the model with structured output\n",
    "    structured_llm = model2.with_structured_output(CheckRelevance)\n",
    "    #forming chains to pass prompt to llm \n",
    "    relevance_checker = check_prompt | structured_llm\n",
    "    #chain is runnable so we can invoke\n",
    "    relevance = relevance_checker.invoke({\"schema\": schema, \"question\": question})\n",
    "    #updating state or returning to state class\n",
    "    state[\"relevance\"] = relevance.relevance\n",
    "    print(f\"Relevance determined: {state['relevance']}\")\n",
    "    return state"
   ]
  },
  {
   "cell_type": "markdown",
   "id": "e9b4e0e7",
   "metadata": {},
   "source": [
    "### step:4) below code block we used to generate(llm) sql query based on user question"
   ]
  },
  {
   "cell_type": "code",
   "execution_count": 15,
   "id": "0197b75e",
   "metadata": {},
   "outputs": [],
   "source": [
    "class ConvertToSQL(BaseModel):\n",
    "    sql_query: str = Field(\n",
    "        description=\"The SQL query corresponding to the user's natural language question.\"\n",
    "    )\n",
    "\n",
    "def convert_nl_to_sql(state: AgentState, config: RunnableConfig):\n",
    "    question = state[\"question\"]\n",
    "    current_user = state[\"current_user\"]\n",
    "    schema = get_database_schema(engine)\n",
    "    print(f\"Converting question to SQL for user '{current_user}': {question}\")\n",
    "    system = \"\"\"You are an assistant that converts natural language questions into SQL queries based on the following schema:\n",
    "\n",
    "    {schema}\n",
    "\n",
    "    The current user is '{current_user}'. Ensure that all query-related data is scoped to this user.\n",
    "    Provide only the SQL query without any explanations. \n",
    "    Alias columns appropriately to match the expected keys in the result.\n",
    "    For example, alias 'food.name' as 'food_name' and 'food.price' as 'price'.\n",
    "    \n",
    "    \"\"\"\n",
    "    \n",
    "    convert_prompt = ChatPromptTemplate.from_messages(\n",
    "        [\n",
    "            (\"system\", system),\n",
    "            (\"human\", \"Question: {question}\"),\n",
    "        ]\n",
    "    )\n",
    "    \n",
    "    structured_llm = model2.with_structured_output(ConvertToSQL)\n",
    "    \n",
    "    sql_generator = convert_prompt | structured_llm\n",
    "    \n",
    "    result = sql_generator.invoke({\n",
    "        \"schema\": schema,\n",
    "        \"current_user\": current_user,\n",
    "        \"question\": question\n",
    "    })\n",
    "    print(result)\n",
    "    \n",
    "    #updating state\n",
    "    state[\"sql_query\"] = result.sql_query\n",
    "    print(f\"Generated SQL query: {state['sql_query']}\")\n",
    "    return state"
   ]
  },
  {
   "cell_type": "markdown",
   "id": "07663de4",
   "metadata": {},
   "source": [
    "### step:5) executing the sql queries"
   ]
  },
  {
   "cell_type": "code",
   "execution_count": 16,
   "id": "c364868d",
   "metadata": {},
   "outputs": [],
   "source": [
    "def execute_sql(state: AgentState):\n",
    "    sql_query = state[\"sql_query\"].strip()\n",
    "    session = SessionLocal()\n",
    "    print(f\"Executing SQL query: {sql_query}\")\n",
    "    try:\n",
    "        result = session.execute(text(sql_query))\n",
    "        if sql_query.lower().startswith(\"select\"):\n",
    "            rows = result.fetchall()\n",
    "            columns = result.keys()\n",
    "            if rows:\n",
    "                header = \", \".join(columns)\n",
    "                state[\"query_rows\"] = [dict(zip(columns, row)) for row in rows]\n",
    "                print(f\"Raw SQL Query Result: {state['query_rows']}\")\n",
    "                # Format the result for readability\n",
    "                data = \"; \".join([f\"{row.get('food_name', row.get('name'))} for ${row.get('price', row.get('food_price'))}\" for row in state[\"query_rows\"]])\n",
    "                formatted_result = f\"{header}\\n{data}\"\n",
    "            else:\n",
    "                state[\"query_rows\"] = []\n",
    "                formatted_result = \"No results found.\"\n",
    "            state[\"query_result\"] = formatted_result\n",
    "            state[\"sql_error\"] = False\n",
    "            print(\"SQL SELECT query executed successfully.\")\n",
    "        else:\n",
    "            session.commit()\n",
    "            state[\"query_result\"] = \"The action has been successfully completed.\"\n",
    "            state[\"sql_error\"] = False\n",
    "            print(\"SQL command executed successfully.\")\n",
    "    except Exception as e:\n",
    "        state[\"query_result\"] = f\"Error executing SQL query: {str(e)}\"\n",
    "        state[\"sql_error\"] = True\n",
    "        print(f\"Error executing SQL query: {str(e)}\")\n",
    "    finally:\n",
    "        session.close()\n",
    "    return state"
   ]
  },
  {
   "cell_type": "markdown",
   "id": "bf6969bc",
   "metadata": {},
   "source": [
    "### step:6) Human readable SQL queries"
   ]
  },
  {
   "cell_type": "code",
   "execution_count": 18,
   "id": "ccffa7e0",
   "metadata": {},
   "outputs": [],
   "source": [
    "def generate_human_readable_answer(state: AgentState):\n",
    "    \"\"\"\n",
    "    Converts SQL query results into human-readable text.\n",
    "    Handles errors, SELECT queries (with/without results), and non-SELECT queries.\n",
    "    \"\"\"\n",
    "\n",
    "    # Extract state variables\n",
    "    sql = state.get(\"sql_query\", \"\")\n",
    "    result = state.get(\"query_result\", \"\")\n",
    "    current_user = state.get(\"current_user\", \"\")\n",
    "    query_rows = state.get(\"query_rows\", [])\n",
    "    sql_error = state.get(\"sql_error\", False)\n",
    "\n",
    "    print(\"Generating a human-readable answer.\")\n",
    "\n",
    "    # System prompt (with placeholder)\n",
    "    system_prompt = (\n",
    "        \"You are an assistant that converts SQL query results into clear, \"\n",
    "        \"natural language responses without including any identifiers like order IDs. \"\n",
    "        \"Start the response with a friendly greeting that includes the user's name: {current_user}.\"\n",
    "    )\n",
    "\n",
    "    # Determine which human prompt to use\n",
    "    if sql_error:\n",
    "        human_prompt = (\n",
    "            \"SQL Query: {sql}\\n\"\n",
    "            \"Result: {result}\\n\\n\"\n",
    "            \"Formulate a clear and understandable error message in a single sentence, \"\n",
    "            \"starting with 'Hello {current_user},' informing them about the issue.\"\n",
    "        )\n",
    "    elif sql.lower().startswith(\"select\"):\n",
    "        if not query_rows:\n",
    "            human_prompt = (\n",
    "                \"SQL Query: {sql}\\n\"\n",
    "                \"Result: {result}\\n\\n\"\n",
    "                \"Formulate a clear and understandable answer to the original question in a single sentence, \"\n",
    "                \"starting with 'Hello {current_user},' and mention that there are no orders found.\"\n",
    "            )\n",
    "        else:\n",
    "            human_prompt = (\n",
    "                \"SQL Query: {sql}\\n\"\n",
    "                \"Result: {result}\\n\\n\"\n",
    "                \"Formulate a clear and understandable answer to the original question in a single sentence, \"\n",
    "                \"starting with 'Hello {current_user},' and list each item ordered along with its price. \"\n",
    "                \"For example: 'Hello Bob, you have ordered Lasagne for $14.0 and Spaghetti Carbonara for $15.0.'\"\n",
    "            )\n",
    "    else:\n",
    "        human_prompt = (\n",
    "            \"SQL Query: {sql}\\n\"\n",
    "            \"Result: {result}\\n\\n\"\n",
    "            \"Formulate a clear and understandable confirmation message in a single sentence, \"\n",
    "            \"starting with 'Hello {current_user},' confirming that your request has been successfully processed.\"\n",
    "        )\n",
    "\n",
    "    # Create prompt template\n",
    "    generate_prompt = ChatPromptTemplate.from_messages([\n",
    "        (\"system\", system_prompt),\n",
    "        (\"human\", human_prompt)\n",
    "    ])\n",
    "\n",
    "    # Invoke the model with placeholders filled\n",
    "    human_response = generate_prompt | model2 | StrOutputParser()\n",
    "    answer = human_response.invoke({\n",
    "        \"current_user\": current_user,\n",
    "        \"sql\": sql,\n",
    "        \"result\": result\n",
    "    })\n",
    "\n",
    "    # Update state\n",
    "    state[\"query_result\"] = answer\n",
    "    print(\"Generated human-readable answer.\")\n",
    "    return state\n"
   ]
  },
  {
   "cell_type": "markdown",
   "id": "a88b22c5",
   "metadata": {},
   "source": [
    "### step:6) if question is relevant than rewrite question"
   ]
  },
  {
   "cell_type": "code",
   "execution_count": null,
   "id": "f4d5a0ae",
   "metadata": {},
   "outputs": [],
   "source": [
    "from pydantic import BaseModel, Field\n",
    "\n",
    "class RewrittenQuestion(BaseModel):\n",
    "    question: str = Field(description=\"The rewritten question.\")\n",
    "\n",
    "def regenerate_query(state: AgentState):\n",
    "    \"\"\"\n",
    "    Rewrites the user's original question to make SQL queries more precise.\n",
    "    Preserves all necessary details for accurate data retrieval.\n",
    "    \"\"\"\n",
    "    question = state.get(\"question\", \"\")\n",
    "    print(\"Regenerating the SQL query by rewriting the question.\")\n",
    "\n",
    "    # System prompt with placeholder\n",
    "    system_prompt = (\n",
    "        \"You are an assistant that reformulates an original question to enable more precise SQL queries. \"\n",
    "        \"Ensure that all necessary details, such as table joins, are preserved to retrieve complete and accurate data.\"\n",
    "    )\n",
    "\n",
    "    # Human prompt with placeholder\n",
    "    human_prompt = (\n",
    "        \"Original Question: {question}\\n\"\n",
    "        \"Reformulate the question to enable more precise SQL queries, ensuring all necessary details are preserved.\"\n",
    "    )\n",
    "\n",
    "    # Create prompt template\n",
    "    rewrite_prompt = ChatPromptTemplate.from_messages([\n",
    "        (\"system\", system_prompt),\n",
    "        (\"human\", human_prompt)\n",
    "    ])\n",
    "\n",
    "    # Structured LLM output\n",
    "    structured_llm = model2.with_structured_output(RewrittenQuestion)\n",
    "\n",
    "    # Combine prompt and structured LLM\n",
    "    rewriter = rewrite_prompt | structured_llm\n",
    "\n",
    "    # Invoke with placeholders\n",
    "    rewritten = rewriter.invoke({\n",
    "        \"question\": question\n",
    "    })\n",
    "\n",
    "    # Update state\n",
    "    state[\"question\"] = rewritten.question\n",
    "    state[\"attempts\"] = state.get(\"attempts\", 0) + 1\n",
    "\n",
    "    print(f\"Rewritten question: {state['question']}\")\n",
    "    return state\n"
   ]
  },
  {
   "cell_type": "markdown",
   "id": "b1f9de2c",
   "metadata": {},
   "source": [
    "### step:7) generate funny reponse if user query is irrrelevant"
   ]
  },
  {
   "cell_type": "code",
   "execution_count": 20,
   "id": "063cbddb",
   "metadata": {},
   "outputs": [],
   "source": [
    "def generate_funny_response(state: AgentState):\n",
    "    question = state.get(\"question\", \"\")\n",
    "    \n",
    "    \"\"\"\n",
    "    Generates a funny, playful response for questions that cannot be answered directly.\n",
    "    \"\"\"\n",
    "    print(\"Generating a funny response for an unrelated question.\")\n",
    "\n",
    "    # System prompt with placeholder (future-proof)\n",
    "    system_prompt = (\n",
    "        \"You are a charming and funny assistant who responds in a playful manner.\"\n",
    "    )\n",
    "\n",
    "    # Human message with placeholder\n",
    "    human_message = (\n",
    "        \"{user_question} - I cannot help with that, but doesn't asking questions make you hungry? \"\n",
    "        \"You can always order something delicious.\"\n",
    "    )\n",
    "\n",
    "    # Create prompt template\n",
    "    funny_prompt = ChatPromptTemplate.from_messages([\n",
    "        (\"system\", system_prompt),\n",
    "        (\"human\", human_message)\n",
    "    ])\n",
    "\n",
    "    \n",
    "\n",
    "    # Combine prompt and LLM\n",
    "    funny_response = funny_prompt | model2 | StrOutputParser()\n",
    "\n",
    "    # Invoke with placeholder dictionary\n",
    "    message = funny_response.invoke({\n",
    "        \"user_question\": question\n",
    "    })\n",
    "\n",
    "    # Update state\n",
    "    state[\"query_result\"] = message\n",
    "    print(\"Generated funny response.\")\n",
    "    return state\n"
   ]
  },
  {
   "cell_type": "markdown",
   "id": "620e822c",
   "metadata": {},
   "source": [
    "### step:7) restriction applying maximum to give answer"
   ]
  },
  {
   "cell_type": "code",
   "execution_count": 21,
   "id": "3ecf1b23",
   "metadata": {},
   "outputs": [],
   "source": [
    "def end_max_iterations(state: AgentState):\n",
    "    state[\"query_result\"] = \"Please try again.\"\n",
    "    print(\"Maximum attempts reached. Ending the workflow.\")\n",
    "    return state\n"
   ]
  },
  {
   "cell_type": "markdown",
   "id": "22b0ce63",
   "metadata": {},
   "source": [
    "### step:8) router function will route by edges"
   ]
  },
  {
   "cell_type": "code",
   "execution_count": 22,
   "id": "9ee37d7a",
   "metadata": {},
   "outputs": [],
   "source": [
    "def relevance_router(state: AgentState):\n",
    "    if state[\"relevance\"].lower() == \"relevant\":\n",
    "        return \"convert_to_sql\"\n",
    "    else:\n",
    "        return \"generate_funny_response\"\n",
    "\n",
    "def check_attempts_router(state: AgentState):\n",
    "    if state[\"attempts\"] < 3:\n",
    "        return \"convert_to_sql\"\n",
    "    else:\n",
    "        return \"end_max_iterations\"\n",
    "\n",
    "def execute_sql_router(state: AgentState):\n",
    "    if not state.get(\"sql_error\", False):\n",
    "        return \"generate_human_readable_answer\"\n",
    "    else:\n",
    "        return \"regenerate_query\""
   ]
  },
  {
   "cell_type": "code",
   "execution_count": null,
   "id": "a17cdfb2",
   "metadata": {},
   "outputs": [],
   "source": []
  },
  {
   "cell_type": "markdown",
   "id": "c5b60e26",
   "metadata": {},
   "source": [
    "# adding nodes or edges to graph"
   ]
  },
  {
   "cell_type": "code",
   "execution_count": 23,
   "id": "f5f7fdb3",
   "metadata": {},
   "outputs": [
    {
     "data": {
      "text/plain": [
       "<langgraph.graph.state.StateGraph at 0x1f4ceb77880>"
      ]
     },
     "execution_count": 23,
     "metadata": {},
     "output_type": "execute_result"
    }
   ],
   "source": [
    "workflow = StateGraph(AgentState)\n",
    "\n",
    "workflow.add_node(\"get_current_user\", get_current_user)\n",
    "workflow.add_node(\"check_relevance\", check_relevance)\n",
    "workflow.add_node(\"convert_to_sql\", convert_nl_to_sql)\n",
    "workflow.add_node(\"execute_sql\", execute_sql)\n",
    "workflow.add_node(\"generate_human_readable_answer\", generate_human_readable_answer)\n",
    "workflow.add_node(\"regenerate_query\", regenerate_query)\n",
    "workflow.add_node(\"generate_funny_response\", generate_funny_response)\n",
    "workflow.add_node(\"end_max_iterations\", end_max_iterations)\n"
   ]
  },
  {
   "cell_type": "code",
   "execution_count": 24,
   "id": "14beb5df",
   "metadata": {},
   "outputs": [
    {
     "data": {
      "text/plain": [
       "<langgraph.graph.state.StateGraph at 0x1f4ceb77880>"
      ]
     },
     "execution_count": 24,
     "metadata": {},
     "output_type": "execute_result"
    }
   ],
   "source": [
    "workflow.add_edge(\"get_current_user\", \"check_relevance\")\n",
    "\n",
    "workflow.add_conditional_edges(\n",
    "    \"check_relevance\",\n",
    "    relevance_router,\n",
    "    {\n",
    "        \"convert_to_sql\": \"convert_to_sql\",\n",
    "        \"generate_funny_response\": \"generate_funny_response\",\n",
    "    },\n",
    ")\n",
    "\n",
    "workflow.add_edge(\"convert_to_sql\", \"execute_sql\")\n",
    "\n",
    "workflow.add_conditional_edges(\n",
    "    \"execute_sql\",\n",
    "    execute_sql_router,\n",
    "    {\n",
    "        \"generate_human_readable_answer\": \"generate_human_readable_answer\",\n",
    "        \"regenerate_query\": \"regenerate_query\",\n",
    "    },\n",
    ")\n",
    "\n",
    "workflow.add_conditional_edges(\n",
    "    \"regenerate_query\",\n",
    "    check_attempts_router,\n",
    "    {\n",
    "        \"convert_to_sql\": \"convert_to_sql\",\n",
    "        \"max_iterations\": \"end_max_iterations\",\n",
    "    },\n",
    ")\n"
   ]
  },
  {
   "cell_type": "code",
   "execution_count": 25,
   "id": "e50aad67",
   "metadata": {},
   "outputs": [
    {
     "data": {
      "image/png": "[encoded data removed]",
      "text/plain": [
       "<langgraph.graph.state.CompiledStateGraph object at 0x000001F4CEB74E20>"
      ]
     },
     "execution_count": 25,
     "metadata": {},
     "output_type": "execute_result"
    }
   ],
   "source": [
    "workflow.add_edge(\"generate_human_readable_answer\", END)\n",
    "workflow.add_edge(\"generate_funny_response\", END)\n",
    "workflow.add_edge(\"end_max_iterations\", END)\n",
    "\n",
    "workflow.set_entry_point(\"get_current_user\")\n",
    "\n",
    "app = workflow.compile()\n",
    "app"
   ]
  },
  {
   "cell_type": "code",
   "execution_count": 26,
   "id": "328b139e",
   "metadata": {},
   "outputs": [
    {
     "name": "stdout",
     "output_type": "stream",
     "text": [
      "Retrieving the current user based on user ID.\n",
      "Current user set to: Bob\n",
      "Retrieved database schema.\n",
      "Checking relevance of the question: Create a new order for Spaghetti Carbonara.\n",
      "[2025-09-24 20:31:42,370]-INFO-1025-HTTP Request: POST https://api.openai.com/v1/chat/completions \"HTTP/1.1 200 OK\"\n",
      "Relevance determined: relevant\n",
      "Retrieved database schema.\n",
      "Converting question to SQL for user 'Bob': Create a new order for Spaghetti Carbonara.\n",
      "[2025-09-24 20:31:44,272]-INFO-1025-HTTP Request: POST https://api.openai.com/v1/chat/completions \"HTTP/1.1 200 OK\"\n",
      "sql_query=\"INSERT INTO orders (food_id, user_id) VALUES ((SELECT id FROM food WHERE name = 'Spaghetti Carbonara'), (SELECT id FROM users WHERE name = 'Bob'))\"\n",
      "Generated SQL query: INSERT INTO orders (food_id, user_id) VALUES ((SELECT id FROM food WHERE name = 'Spaghetti Carbonara'), (SELECT id FROM users WHERE name = 'Bob'))\n",
      "Executing SQL query: INSERT INTO orders (food_id, user_id) VALUES ((SELECT id FROM food WHERE name = 'Spaghetti Carbonara'), (SELECT id FROM users WHERE name = 'Bob'))\n",
      "SQL command executed successfully.\n",
      "Generating a human-readable answer.\n",
      "[2025-09-24 20:31:45,594]-INFO-1025-HTTP Request: POST https://api.openai.com/v1/chat/completions \"HTTP/1.1 200 OK\"\n",
      "Generated human-readable answer.\n",
      "Result: Hello Bob, your order for Spaghetti Carbonara has been successfully placed.\n"
     ]
    }
   ],
   "source": [
    "fake_config = {\"configurable\": {\"current_user_id\": \"2\"}}\n",
    "user_question_1 = \"Create a new order for Spaghetti Carbonara.\"\n",
    "result_1 = app.invoke({\"question\": user_question_1, \"attempts\": 0}, config=fake_config)\n",
    "print(\"Result:\", result_1[\"query_result\"])"
   ]
  },
  {
   "cell_type": "code",
   "execution_count": 27,
   "id": "f1f8c613",
   "metadata": {},
   "outputs": [
    {
     "name": "stdout",
     "output_type": "stream",
     "text": [
      "Retrieving the current user based on user ID.\n",
      "Current user set to: Bob\n",
      "Retrieved database schema.\n",
      "Checking relevance of the question: Show me my orders\n",
      "[2025-09-24 20:34:53,574]-INFO-1025-HTTP Request: POST https://api.openai.com/v1/chat/completions \"HTTP/1.1 200 OK\"\n",
      "Relevance determined: relevant\n",
      "Retrieved database schema.\n",
      "Converting question to SQL for user 'Bob': Show me my orders\n",
      "[2025-09-24 20:34:55,039]-INFO-1025-HTTP Request: POST https://api.openai.com/v1/chat/completions \"HTTP/1.1 200 OK\"\n",
      "sql_query=\"SELECT food.name AS food_name, food.price AS price FROM food JOIN orders ON food.id = orders.food_id JOIN users ON orders.user_id = users.id WHERE users.name = 'Bob'\"\n",
      "Generated SQL query: SELECT food.name AS food_name, food.price AS price FROM food JOIN orders ON food.id = orders.food_id JOIN users ON orders.user_id = users.id WHERE users.name = 'Bob'\n",
      "Executing SQL query: SELECT food.name AS food_name, food.price AS price FROM food JOIN orders ON food.id = orders.food_id JOIN users ON orders.user_id = users.id WHERE users.name = 'Bob'\n",
      "Raw SQL Query Result: [{'food_name': 'Lasagne', 'price': 14.0}, {'food_name': 'Spaghetti Carbonara', 'price': 15.0}]\n",
      "SQL SELECT query executed successfully.\n",
      "Generating a human-readable answer.\n",
      "[2025-09-24 20:34:55,732]-INFO-1025-HTTP Request: POST https://api.openai.com/v1/chat/completions \"HTTP/1.1 200 OK\"\n",
      "Generated human-readable answer.\n",
      "Result: Hello Bob, you have ordered Lasagne for $14.0 and Spaghetti Carbonara for $15.0.\n"
     ]
    }
   ],
   "source": [
    "user_question_3 = \"Show me my orders\"\n",
    "result_3 = app.invoke({\"question\": user_question_3, \"attempts\": 0}, config=fake_config)\n",
    "print(\"Result:\", result_3[\"query_result\"])"
   ]
  },
  {
   "cell_type": "code",
   "execution_count": 28,
   "id": "a6e0c3cc",
   "metadata": {},
   "outputs": [
    {
     "name": "stdout",
     "output_type": "stream",
     "text": [
      "Retrieving the current user based on user ID.\n",
      "Current user set to: Bob\n",
      "Retrieved database schema.\n",
      "Checking relevance of the question: Tell me a joke.\n",
      "[2025-09-24 20:35:15,740]-INFO-1025-HTTP Request: POST https://api.openai.com/v1/chat/completions \"HTTP/1.1 200 OK\"\n",
      "Relevance determined: not_relevant\n",
      "Generating a funny response for an unrelated question.\n",
      "[2025-09-24 20:35:16,593]-INFO-1025-HTTP Request: POST https://api.openai.com/v1/chat/completions \"HTTP/1.1 200 OK\"\n",
      "Generated funny response.\n",
      "Result: Why did the scarecrow win an award? Because he was outstanding in his field! If you need more jokes, just let me know!\n"
     ]
    }
   ],
   "source": [
    "user_question_2 = \"Tell me a joke.\"\n",
    "result_2 = app.invoke({\"question\": user_question_2, \"attempts\": 0}, config=fake_config)\n",
    "print(\"Result:\", result_2[\"query_result\"])"
   ]
  }
 ],
 "metadata": {
  "kernelspec": {
   "display_name": "hf-gpu",
   "language": "python",
   "name": "python3"
  },
  "language_info": {
   "codemirror_mode": {
    "name": "ipython",
    "version": 3
   },
   "file_extension": ".py",
   "mimetype": "text/x-python",
   "name": "python",
   "nbconvert_exporter": "python",
   "pygments_lexer": "ipython3",
   "version": "3.10.18"
  }
 },
 "nbformat": 4,
 "nbformat_minor": 5
}
